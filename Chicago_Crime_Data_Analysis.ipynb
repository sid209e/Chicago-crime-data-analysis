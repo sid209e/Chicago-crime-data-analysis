{
  "metadata": {
    "kernelspec": {
      "language": "python",
      "display_name": "Python 3",
      "name": "python3"
    },
    "language_info": {
      "name": "python",
      "version": "3.7.12",
      "mimetype": "text/x-python",
      "codemirror_mode": {
        "name": "ipython",
        "version": 3
      },
      "pygments_lexer": "ipython3",
      "nbconvert_exporter": "python",
      "file_extension": ".py"
    },
    "colab": {
      "provenance": [],
      "include_colab_link": true
    }
  },
  "nbformat_minor": 0,
  "nbformat": 4,
  "cells": [
    {
      "cell_type": "markdown",
      "metadata": {
        "id": "view-in-github",
        "colab_type": "text"
      },
      "source": [
        "<a href=\"https://colab.research.google.com/github/sid209e/Chicago-crime-data-analysis/blob/main/Chicago_Crime_Data_Analysis.ipynb\" target=\"_parent\"><img src=\"https://colab.research.google.com/assets/colab-badge.svg\" alt=\"Open In Colab\"/></a>"
      ]
    },
    {
      "cell_type": "markdown",
      "source": [
        "# Chicago Crime Data Analysis"
      ],
      "metadata": {
        "_cell_guid": "9804a4a5-b5de-3091-5c36-12cbf68d33b1",
        "id": "AsafAuSTBpVc"
      }
    },
    {
      "cell_type": "markdown",
      "source": [
        "## Quick lookup"
      ],
      "metadata": {
        "_cell_guid": "8aaabcbb-a760-341b-1f6e-67644b142631",
        "id": "NSu-uW5OBpVe"
      }
    },
    {
      "cell_type": "code",
      "source": [
        "import pandas as pd\n",
        "from pandas import read_csv\n",
        "crimes = read_csv('../input/chicago-crime-2001-to-2022/Crimes_-_2001_to_Present.csv', index_col='Date')"
      ],
      "metadata": {
        "_cell_guid": "9d930c7a-4251-c87e-68ac-fcf1c9d63634",
        "execution": {
          "iopub.status.busy": "2022-11-11T21:56:56.091318Z",
          "iopub.execute_input": "2022-11-11T21:56:56.091739Z",
          "iopub.status.idle": "2022-11-11T21:57:42.363149Z",
          "shell.execute_reply.started": "2022-11-11T21:56:56.091688Z",
          "shell.execute_reply": "2022-11-11T21:57:42.362081Z"
        },
        "trusted": true,
        "id": "SRWblt5yBpVf"
      },
      "execution_count": null,
      "outputs": []
    },
    {
      "cell_type": "code",
      "source": [
        "print(type(crimes))"
      ],
      "metadata": {
        "_cell_guid": "eaf20b8a-3f30-b408-9c4a-038879879b42",
        "execution": {
          "iopub.status.busy": "2022-11-11T21:57:42.365271Z",
          "iopub.execute_input": "2022-11-11T21:57:42.365648Z",
          "iopub.status.idle": "2022-11-11T21:57:42.372939Z",
          "shell.execute_reply.started": "2022-11-11T21:57:42.365615Z",
          "shell.execute_reply": "2022-11-11T21:57:42.371263Z"
        },
        "trusted": true,
        "id": "TZmYRw2vBpVg",
        "outputId": "bb4946f1-87d5-407c-a431-6821da37755b"
      },
      "execution_count": null,
      "outputs": [
        {
          "name": "stdout",
          "text": "<class 'pandas.core.frame.DataFrame'>\n",
          "output_type": "stream"
        }
      ]
    },
    {
      "cell_type": "code",
      "source": [
        "crimes = crimes.iloc[:, 3: ]\n",
        "crimes.head()"
      ],
      "metadata": {
        "_cell_guid": "15ed6d91-50f3-fc9d-3bc3-19381b0bc444",
        "execution": {
          "iopub.status.busy": "2022-11-11T21:57:42.374365Z",
          "iopub.execute_input": "2022-11-11T21:57:42.374726Z",
          "iopub.status.idle": "2022-11-11T21:57:44.362387Z",
          "shell.execute_reply.started": "2022-11-11T21:57:42.374694Z",
          "shell.execute_reply": "2022-11-11T21:57:44.360834Z"
        },
        "trusted": true,
        "id": "_Cw_XN0YBpVi",
        "outputId": "e7b43880-2ebc-4d88-ceaf-82ff16ac741c"
      },
      "execution_count": null,
      "outputs": [
        {
          "execution_count": 5,
          "output_type": "execute_result",
          "data": {
            "text/plain": "                        IUCR Primary Type              Description  \\\nDate                                                                 \n09/05/2015 01:30:00 PM  0486      BATTERY  DOMESTIC BATTERY SIMPLE   \n09/04/2015 11:30:00 AM  0870        THEFT           POCKET-PICKING   \n09/01/2018 12:01:00 AM  0810        THEFT                OVER $500   \n09/05/2015 12:45:00 PM  2023    NARCOTICS    POSS: HEROIN(BRN/TAN)   \n09/05/2015 01:00:00 PM  0560      ASSAULT                   SIMPLE   \n\n                       Location Description Arrest Domestic    Beat  District  \\\nDate                                                                            \n09/05/2015 01:30:00 PM            RESIDENCE  False     True   924.0       9.0   \n09/04/2015 11:30:00 AM              CTA BUS  False    False  1511.0      15.0   \n09/01/2018 12:01:00 AM            RESIDENCE  False     True   631.0       6.0   \n09/05/2015 12:45:00 PM             SIDEWALK   True    False  1412.0      14.0   \n09/05/2015 01:00:00 PM            APARTMENT  False     True  1522.0      15.0   \n\n                        Ward  Community Area FBI Code  X Coordinate  \\\nDate                                                                  \n09/05/2015 01:30:00 PM  12.0            61.0      08B     1165074.0   \n09/04/2015 11:30:00 AM  29.0            25.0       06     1138875.0   \n09/01/2018 12:01:00 AM   8.0            44.0       06           NaN   \n09/05/2015 12:45:00 PM  35.0            21.0       18     1152037.0   \n09/05/2015 01:00:00 PM  28.0            25.0      08A     1141706.0   \n\n                        Y Coordinate    Year              Updated On  \\\nDate                                                                   \n09/05/2015 01:30:00 PM     1875917.0  2015.0  02/10/2018 03:50:01 PM   \n09/04/2015 11:30:00 AM     1904869.0  2015.0  02/10/2018 03:50:01 PM   \n09/01/2018 12:01:00 AM           NaN  2018.0  04/06/2019 04:04:43 PM   \n09/05/2015 12:45:00 PM     1920384.0  2015.0  02/10/2018 03:50:01 PM   \n09/05/2015 01:00:00 PM     1900086.0  2015.0  02/10/2018 03:50:01 PM   \n\n                         Latitude  Longitude                       Location  \nDate                                                                         \n09/05/2015 01:30:00 PM  41.815117 -87.670000  (41.815117282, -87.669999562)  \n09/04/2015 11:30:00 AM  41.895080 -87.765400  (41.895080471, -87.765400451)  \n09/01/2018 12:01:00 AM        NaN        NaN                            NaN  \n09/05/2015 12:45:00 PM  41.937406 -87.716650  (41.937405765, -87.716649687)  \n09/05/2015 01:00:00 PM  41.881903 -87.755121  (41.881903443, -87.755121152)  ",
            "text/html": "<div>\n<style scoped>\n    .dataframe tbody tr th:only-of-type {\n        vertical-align: middle;\n    }\n\n    .dataframe tbody tr th {\n        vertical-align: top;\n    }\n\n    .dataframe thead th {\n        text-align: right;\n    }\n</style>\n<table border=\"1\" class=\"dataframe\">\n  <thead>\n    <tr style=\"text-align: right;\">\n      <th></th>\n      <th>IUCR</th>\n      <th>Primary Type</th>\n      <th>Description</th>\n      <th>Location Description</th>\n      <th>Arrest</th>\n      <th>Domestic</th>\n      <th>Beat</th>\n      <th>District</th>\n      <th>Ward</th>\n      <th>Community Area</th>\n      <th>FBI Code</th>\n      <th>X Coordinate</th>\n      <th>Y Coordinate</th>\n      <th>Year</th>\n      <th>Updated On</th>\n      <th>Latitude</th>\n      <th>Longitude</th>\n      <th>Location</th>\n    </tr>\n    <tr>\n      <th>Date</th>\n      <th></th>\n      <th></th>\n      <th></th>\n      <th></th>\n      <th></th>\n      <th></th>\n      <th></th>\n      <th></th>\n      <th></th>\n      <th></th>\n      <th></th>\n      <th></th>\n      <th></th>\n      <th></th>\n      <th></th>\n      <th></th>\n      <th></th>\n      <th></th>\n    </tr>\n  </thead>\n  <tbody>\n    <tr>\n      <th>09/05/2015 01:30:00 PM</th>\n      <td>0486</td>\n      <td>BATTERY</td>\n      <td>DOMESTIC BATTERY SIMPLE</td>\n      <td>RESIDENCE</td>\n      <td>False</td>\n      <td>True</td>\n      <td>924.0</td>\n      <td>9.0</td>\n      <td>12.0</td>\n      <td>61.0</td>\n      <td>08B</td>\n      <td>1165074.0</td>\n      <td>1875917.0</td>\n      <td>2015.0</td>\n      <td>02/10/2018 03:50:01 PM</td>\n      <td>41.815117</td>\n      <td>-87.670000</td>\n      <td>(41.815117282, -87.669999562)</td>\n    </tr>\n    <tr>\n      <th>09/04/2015 11:30:00 AM</th>\n      <td>0870</td>\n      <td>THEFT</td>\n      <td>POCKET-PICKING</td>\n      <td>CTA BUS</td>\n      <td>False</td>\n      <td>False</td>\n      <td>1511.0</td>\n      <td>15.0</td>\n      <td>29.0</td>\n      <td>25.0</td>\n      <td>06</td>\n      <td>1138875.0</td>\n      <td>1904869.0</td>\n      <td>2015.0</td>\n      <td>02/10/2018 03:50:01 PM</td>\n      <td>41.895080</td>\n      <td>-87.765400</td>\n      <td>(41.895080471, -87.765400451)</td>\n    </tr>\n    <tr>\n      <th>09/01/2018 12:01:00 AM</th>\n      <td>0810</td>\n      <td>THEFT</td>\n      <td>OVER $500</td>\n      <td>RESIDENCE</td>\n      <td>False</td>\n      <td>True</td>\n      <td>631.0</td>\n      <td>6.0</td>\n      <td>8.0</td>\n      <td>44.0</td>\n      <td>06</td>\n      <td>NaN</td>\n      <td>NaN</td>\n      <td>2018.0</td>\n      <td>04/06/2019 04:04:43 PM</td>\n      <td>NaN</td>\n      <td>NaN</td>\n      <td>NaN</td>\n    </tr>\n    <tr>\n      <th>09/05/2015 12:45:00 PM</th>\n      <td>2023</td>\n      <td>NARCOTICS</td>\n      <td>POSS: HEROIN(BRN/TAN)</td>\n      <td>SIDEWALK</td>\n      <td>True</td>\n      <td>False</td>\n      <td>1412.0</td>\n      <td>14.0</td>\n      <td>35.0</td>\n      <td>21.0</td>\n      <td>18</td>\n      <td>1152037.0</td>\n      <td>1920384.0</td>\n      <td>2015.0</td>\n      <td>02/10/2018 03:50:01 PM</td>\n      <td>41.937406</td>\n      <td>-87.716650</td>\n      <td>(41.937405765, -87.716649687)</td>\n    </tr>\n    <tr>\n      <th>09/05/2015 01:00:00 PM</th>\n      <td>0560</td>\n      <td>ASSAULT</td>\n      <td>SIMPLE</td>\n      <td>APARTMENT</td>\n      <td>False</td>\n      <td>True</td>\n      <td>1522.0</td>\n      <td>15.0</td>\n      <td>28.0</td>\n      <td>25.0</td>\n      <td>08A</td>\n      <td>1141706.0</td>\n      <td>1900086.0</td>\n      <td>2015.0</td>\n      <td>02/10/2018 03:50:01 PM</td>\n      <td>41.881903</td>\n      <td>-87.755121</td>\n      <td>(41.881903443, -87.755121152)</td>\n    </tr>\n  </tbody>\n</table>\n</div>"
          },
          "metadata": {}
        }
      ]
    },
    {
      "cell_type": "code",
      "source": [
        "crimes.index = pd.to_datetime(crimes.index)"
      ],
      "metadata": {
        "_cell_guid": "4805f28f-c034-fb15-1252-dcfa65a62ebd",
        "execution": {
          "iopub.status.busy": "2022-11-11T21:57:44.364389Z",
          "iopub.execute_input": "2022-11-11T21:57:44.364881Z"
        },
        "trusted": true,
        "id": "TH2xYmZkBpVi"
      },
      "execution_count": null,
      "outputs": []
    },
    {
      "cell_type": "code",
      "source": [
        "print(crimes.shape)\n",
        "print(crimes.head())"
      ],
      "metadata": {
        "_cell_guid": "00c39edd-541a-3b27-5827-c0c0de68c4c2",
        "trusted": true,
        "id": "Jxmi_oQgBpVj"
      },
      "execution_count": null,
      "outputs": []
    },
    {
      "cell_type": "code",
      "source": [
        "s = crimes[['Primary Type']]"
      ],
      "metadata": {
        "_cell_guid": "c52d1265-4e8e-1016-df9b-a63cb78d1d47",
        "trusted": true,
        "id": "H3Uy6X1ZBpVj"
      },
      "execution_count": null,
      "outputs": []
    },
    {
      "cell_type": "code",
      "source": [
        "s.head()"
      ],
      "metadata": {
        "_cell_guid": "3680a4e1-f637-e6fd-3362-0bb32f0ff7b8",
        "trusted": true,
        "id": "ZTqWd0HUBpVj"
      },
      "execution_count": null,
      "outputs": []
    },
    {
      "cell_type": "code",
      "source": [
        "crime_count = pd.DataFrame(s.groupby('Primary Type').size().sort_values(ascending=False).rename('counts').reset_index())"
      ],
      "metadata": {
        "_cell_guid": "408a113f-36ff-0e25-9425-ea0a45f0ddce",
        "trusted": true,
        "id": "QQEVfN0kBpVk"
      },
      "execution_count": null,
      "outputs": []
    },
    {
      "cell_type": "code",
      "source": [
        "crime_count.head()"
      ],
      "metadata": {
        "_cell_guid": "26429c64-f071-48d3-d264-c20f98d5faeb",
        "trusted": true,
        "id": "jMuZN74DBpVk"
      },
      "execution_count": null,
      "outputs": []
    },
    {
      "cell_type": "code",
      "source": [
        "crime_count.shape"
      ],
      "metadata": {
        "_cell_guid": "f7a3b431-6985-fe34-7497-14ad5e785a55",
        "trusted": true,
        "id": "nV52JJfpBpVk"
      },
      "execution_count": null,
      "outputs": []
    },
    {
      "cell_type": "code",
      "source": [
        "import seaborn as sns\n",
        "import matplotlib.pyplot as plt\n",
        "sns.set(style=\"whitegrid\")\n",
        "\n",
        "# Initialize the matplotlib figure\n",
        "f, ax = plt.subplots(figsize=(6, 15))\n",
        "\n",
        "\n",
        "# Plot the total crashes\n",
        "sns.set_color_codes(\"pastel\")\n",
        "sns.barplot(x=\"counts\", y=\"Primary Type\", data=crime_count.iloc[:10, :],\n",
        "            label=\"Total\", color=\"b\")\n",
        "\n",
        "ax.legend(ncol=2, loc=\"lower right\", frameon=True)\n",
        "ax.set(ylabel=\"Type\",\n",
        "       xlabel=\"Crimes\")\n",
        "sns.despine(left=True, bottom=True)\n",
        "\n",
        "# Add a legend and informative axis label\n",
        "plt.show()\n",
        "\n",
        "\n"
      ],
      "metadata": {
        "_cell_guid": "acd10298-1b52-9a46-125d-95cc6df4a3ae",
        "trusted": true,
        "id": "OLYBaDENBpVl"
      },
      "execution_count": null,
      "outputs": []
    },
    {
      "cell_type": "markdown",
      "source": [
        "## Arrests"
      ],
      "metadata": {
        "_cell_guid": "fdbfdebb-a9fd-d408-1ae5-4ae01e60079f",
        "id": "tyyUsJc6BpVl"
      }
    },
    {
      "cell_type": "code",
      "source": [
        "crimes_2012 = crimes.loc['2012']\n",
        "crimes_2013 = crimes.loc['2013']\n",
        "crimes_2014 = crimes.loc['2014']\n",
        "crimes_2015 = crimes.loc['2015']\n",
        "crimes_2016 = crimes.loc['2016']\n",
        "crimes_2017 = crimes.loc['2017']\n",
        "crimes_2018 = crimes.loc['2018']\n",
        "crimes_2019 = crimes.loc['2019']\n",
        "crimes_2020 = crimes.loc['2020']\n",
        "crimes_2021 = crimes.loc['2021']\n",
        "\n",
        "\n",
        "## Yearly crimes\n",
        "arrest_yearly = crimes[crimes['Arrest'] == True]['Arrest']"
      ],
      "metadata": {
        "_cell_guid": "893ece3a-94e5-4797-bf07-02ab31b33ba2",
        "trusted": true,
        "id": "-Zop2XvcBpVl",
        "outputId": "5c75bb65-728e-4ecd-bb9d-2d3220f5101d",
        "colab": {
          "base_uri": "https://localhost:8080/",
          "height": 235
        }
      },
      "execution_count": null,
      "outputs": [
        {
          "output_type": "error",
          "ename": "NameError",
          "evalue": "ignored",
          "traceback": [
            "\u001b[0;31m---------------------------------------------------------------------------\u001b[0m",
            "\u001b[0;31mNameError\u001b[0m                                 Traceback (most recent call last)",
            "\u001b[0;32m<ipython-input-1-2a5b6acd7bf3>\u001b[0m in \u001b[0;36m<module>\u001b[0;34m\u001b[0m\n\u001b[0;32m----> 1\u001b[0;31m \u001b[0mcrimes_2012\u001b[0m \u001b[0;34m=\u001b[0m \u001b[0mcrimes\u001b[0m\u001b[0;34m.\u001b[0m\u001b[0mloc\u001b[0m\u001b[0;34m[\u001b[0m\u001b[0;34m'2012'\u001b[0m\u001b[0;34m]\u001b[0m\u001b[0;34m\u001b[0m\u001b[0;34m\u001b[0m\u001b[0m\n\u001b[0m\u001b[1;32m      2\u001b[0m \u001b[0mcrimes_2013\u001b[0m \u001b[0;34m=\u001b[0m \u001b[0mcrimes\u001b[0m\u001b[0;34m.\u001b[0m\u001b[0mloc\u001b[0m\u001b[0;34m[\u001b[0m\u001b[0;34m'2013'\u001b[0m\u001b[0;34m]\u001b[0m\u001b[0;34m\u001b[0m\u001b[0;34m\u001b[0m\u001b[0m\n\u001b[1;32m      3\u001b[0m \u001b[0mcrimes_2014\u001b[0m \u001b[0;34m=\u001b[0m \u001b[0mcrimes\u001b[0m\u001b[0;34m.\u001b[0m\u001b[0mloc\u001b[0m\u001b[0;34m[\u001b[0m\u001b[0;34m'2014'\u001b[0m\u001b[0;34m]\u001b[0m\u001b[0;34m\u001b[0m\u001b[0;34m\u001b[0m\u001b[0m\n\u001b[1;32m      4\u001b[0m \u001b[0mcrimes_2015\u001b[0m \u001b[0;34m=\u001b[0m \u001b[0mcrimes\u001b[0m\u001b[0;34m.\u001b[0m\u001b[0mloc\u001b[0m\u001b[0;34m[\u001b[0m\u001b[0;34m'2015'\u001b[0m\u001b[0;34m]\u001b[0m\u001b[0;34m\u001b[0m\u001b[0;34m\u001b[0m\u001b[0m\n\u001b[1;32m      5\u001b[0m \u001b[0mcrimes_2016\u001b[0m \u001b[0;34m=\u001b[0m \u001b[0mcrimes\u001b[0m\u001b[0;34m.\u001b[0m\u001b[0mloc\u001b[0m\u001b[0;34m[\u001b[0m\u001b[0;34m'2016'\u001b[0m\u001b[0;34m]\u001b[0m\u001b[0;34m\u001b[0m\u001b[0;34m\u001b[0m\u001b[0m\n",
            "\u001b[0;31mNameError\u001b[0m: name 'crimes' is not defined"
          ]
        }
      ]
    },
    {
      "cell_type": "code",
      "source": [
        "print(arrest_yearly.head())"
      ],
      "metadata": {
        "_cell_guid": "750d451a-da6f-ad79-c79f-1054b637519c",
        "trusted": true,
        "id": "mOhA9RUQBpVm"
      },
      "execution_count": null,
      "outputs": []
    },
    {
      "cell_type": "code",
      "source": [
        "plt.subplot()\n",
        "# yearly arrest\n",
        "arrest_yearly.resample('A').sum().plot()\n",
        "plt.title('Yearly arrests')\n",
        "plt.show()\n",
        "# Monthly arrest\n",
        "arrest_yearly.resample('M').sum().plot()\n",
        "plt.title('Monthly arrests')\n",
        "plt.show()\n",
        "# Weekly arrest\n",
        "arrest_yearly.resample('W').sum().plot()\n",
        "plt.title('Weekly arrests')\n",
        "plt.show()\n",
        "# daily arrest\n",
        "arrest_yearly.resample('D').sum().plot()\n",
        "plt.title('Daily arrests')\n",
        "plt.show()\n",
        "plt.show()"
      ],
      "metadata": {
        "_cell_guid": "98c62620-da82-bacc-0508-5cdc0f4b1363",
        "trusted": true,
        "id": "PQT1dzkPBpVm"
      },
      "execution_count": null,
      "outputs": []
    },
    {
      "cell_type": "markdown",
      "source": [
        "## Domestic violence"
      ],
      "metadata": {
        "_cell_guid": "4d44a411-a18f-edf3-0f13-d189d7b98dcc",
        "id": "0vXLZjStBpVm"
      }
    },
    {
      "cell_type": "code",
      "source": [
        "domestic_yearly = crimes[crimes['Domestic'] == True]['Domestic']\n",
        "print(domestic_yearly.head())"
      ],
      "metadata": {
        "_cell_guid": "bd3ddc39-91ab-2834-64ef-0b666e2e8c51",
        "trusted": true,
        "id": "PuQ68h65BpVn"
      },
      "execution_count": null,
      "outputs": []
    },
    {
      "cell_type": "code",
      "source": [
        "\n",
        "plt.subplot()\n",
        "# yearly domestic violence\n",
        "domestic_yearly.resample('A').sum().plot()\n",
        "plt.title('Yearly domestic violence')\n",
        "plt.show()\n",
        "# Monthly domestic violence\n",
        "domestic_yearly.resample('M').sum().plot()\n",
        "plt.title('Monthly domestic violence')\n",
        "plt.show()\n",
        "# Weekly domestic violence\n",
        "domestic_yearly.resample('W').sum().plot()\n",
        "plt.title('Weekly domestic violence')\n",
        "plt.show()\n",
        "# daily domestic violence\n",
        "domestic_yearly.resample('D').sum().plot()\n",
        "plt.title('Daily domestic violence')\n",
        "plt.show()\n",
        "plt.show()"
      ],
      "metadata": {
        "_cell_guid": "d87199de-88f1-6db1-d4cd-110d36a972c2",
        "trusted": true,
        "id": "K3QRHD5WBpVn"
      },
      "execution_count": null,
      "outputs": []
    },
    {
      "cell_type": "markdown",
      "source": [
        "## Top 5 crimes trend over the years"
      ],
      "metadata": {
        "_cell_guid": "ad2d8990-4f2e-d4c1-e2a1-e5a9b819347b",
        "id": "uiOLItr5BpVn"
      }
    },
    {
      "cell_type": "markdown",
      "source": [
        "### Monthly"
      ],
      "metadata": {
        "_cell_guid": "d11ee176-aea1-05b1-cd77-c05b77f60251",
        "id": "CxEFizoEBpVn"
      }
    },
    {
      "cell_type": "code",
      "source": [
        "theft_2012 = pd.DataFrame(crimes_2012[crimes_2012['Primary Type'].isin(['THEFT','BATTERY', 'CRIMINAL DAMAGE', 'NARCOTICS', 'ASSAULT'])]['Primary Type'])\n",
        "theft_2013 = pd.DataFrame(crimes_2013[crimes_2013['Primary Type'].isin(['THEFT','BATTERY', 'CRIMINAL DAMAGE', 'NARCOTICS', 'ASSAULT'])]['Primary Type'])\n",
        "theft_2014 = pd.DataFrame(crimes_2014[crimes_2014['Primary Type'].isin(['THEFT','BATTERY', 'CRIMINAL DAMAGE', 'NARCOTICS', 'ASSAULT'])]['Primary Type'])\n",
        "theft_2015 = pd.DataFrame(crimes_2015[crimes_2015['Primary Type'].isin(['THEFT','BATTERY', 'CRIMINAL DAMAGE', 'NARCOTICS', 'ASSAULT'])]['Primary Type'])\n",
        "theft_2016 = pd.DataFrame(crimes_2016[crimes_2016['Primary Type'].isin(['THEFT','BATTERY', 'CRIMINAL DAMAGE', 'NARCOTICS', 'ASSAULT'])]['Primary Type'])\n",
        "theft_2017 = pd.DataFrame(crimes_2017[crimes_2017['Primary Type'].isin(['THEFT','BATTERY', 'CRIMINAL DAMAGE', 'NARCOTICS', 'ASSAULT'])]['Primary Type'])\n",
        "theft_2018 = pd.DataFrame(crimes_2018[crimes_2018['Primary Type'].isin(['THEFT','BATTERY', 'CRIMINAL DAMAGE', 'NARCOTICS', 'ASSAULT'])]['Primary Type'])\n",
        "theft_2019 = pd.DataFrame(crimes_2019[crimes_2019['Primary Type'].isin(['THEFT','BATTERY', 'CRIMINAL DAMAGE', 'NARCOTICS', 'ASSAULT'])]['Primary Type'])\n",
        "theft_2020 = pd.DataFrame(crimes_2020[crimes_2020['Primary Type'].isin(['THEFT','BATTERY', 'CRIMINAL DAMAGE', 'NARCOTICS', 'ASSAULT'])]['Primary Type'])\n",
        "theft_2021 = pd.DataFrame(crimes_2021[crimes_2021['Primary Type'].isin(['THEFT','BATTERY', 'CRIMINAL DAMAGE', 'NARCOTICS', 'ASSAULT'])]['Primary Type'])"
      ],
      "metadata": {
        "_cell_guid": "f2487186-d302-b505-039e-58258ed02898",
        "trusted": true,
        "id": "mO6QKsUpBpVo"
      },
      "execution_count": null,
      "outputs": []
    },
    {
      "cell_type": "code",
      "source": [
        "grouper = theft_2012.groupby([pd.TimeGrouper('M'), 'Primary Type'])\n",
        "grouper_2013 = theft_2013.groupby([pd.TimeGrouper('M'), 'Primary Type'])\n",
        "grouper_2014 = theft_2014.groupby([pd.TimeGrouper('M'), 'Primary Type'])\n",
        "grouper_2015 = theft_2015.groupby([pd.TimeGrouper('M'), 'Primary Type'])\n",
        "grouper_2016 = theft_2016.groupby([pd.TimeGrouper('M'), 'Primary Type'])\n",
        "grouper_2017 = theft_2017.groupby([pd.TimeGrouper('M'), 'Primary Type'])\n",
        "grouper_2018 = theft_2018.groupby([pd.TimeGrouper('M'), 'Primary Type'])\n",
        "grouper_2019 = theft_2019.groupby([pd.TimeGrouper('M'), 'Primary Type'])\n",
        "grouper_2020 = theft_2020.groupby([pd.TimeGrouper('M'), 'Primary Type'])\n",
        "grouper_2021 = theft_2021.groupby([pd.TimeGrouper('M'), 'Primary Type'])"
      ],
      "metadata": {
        "_cell_guid": "7531bc67-3480-f1f5-e397-2f37b423aba4",
        "trusted": true,
        "id": "h_GHCXcxBpVo"
      },
      "execution_count": null,
      "outputs": []
    },
    {
      "cell_type": "code",
      "source": [
        "data_2012 = grouper['Primary Type'].count().unstack()\n",
        "data_2013 = grouper_2013['Primary Type'].count().unstack()\n",
        "data_2014 = grouper_2014['Primary Type'].count().unstack()\n",
        "data_2015 = grouper_2015['Primary Type'].count().unstack()\n",
        "data_2016 = grouper_2016['Primary Type'].count().unstack()\n",
        "data_2017 = grouper_2017['Primary Type'].count().unstack()\n",
        "data_2018 = grouper_2018['Primary Type'].count().unstack()\n",
        "data_2019 = grouper_2019['Primary Type'].count().unstack()\n",
        "data_2020 = grouper_2020['Primary Type'].count().unstack()\n",
        "data_2021 = grouper_2021['Primary Type'].count().unstack()"
      ],
      "metadata": {
        "_cell_guid": "794e5976-3d33-d43c-ffd7-85232472db77",
        "trusted": true,
        "id": "_qCjVAR-BpVo"
      },
      "execution_count": null,
      "outputs": []
    },
    {
      "cell_type": "code",
      "source": [
        "data_2012.plot()\n",
        "plt.title(\"Top 5 monthly crimes in 2012\")\n",
        "plt.show()"
      ],
      "metadata": {
        "_cell_guid": "568ed318-9aa3-4137-5b8f-48941153ed3b",
        "trusted": true,
        "id": "kZKGO0F2BpVp"
      },
      "execution_count": null,
      "outputs": []
    },
    {
      "cell_type": "code",
      "source": [
        "data_2013.plot()\n",
        "plt.title(\"Top 5 monthly crimes in 2013\")\n",
        "plt.show()"
      ],
      "metadata": {
        "_cell_guid": "b9c1e729-be3f-3920-e091-45b286296c8e",
        "trusted": true,
        "id": "PB8mJgnlBpVp"
      },
      "execution_count": null,
      "outputs": []
    },
    {
      "cell_type": "code",
      "source": [
        "data_2014.plot()\n",
        "plt.title(\"Top 5 monthly crimes 2014\")\n",
        "plt.show()"
      ],
      "metadata": {
        "_cell_guid": "17cb0c5a-a1b9-6937-47f9-9118319934bc",
        "trusted": true,
        "id": "Z3U7zyoBBpVp"
      },
      "execution_count": null,
      "outputs": []
    },
    {
      "cell_type": "code",
      "source": [
        "data_2015.plot()\n",
        "plt.title(\"Top 5 monthly crimes 2015\")\n",
        "plt.show()"
      ],
      "metadata": {
        "_cell_guid": "620ed897-fd21-bc06-f8f8-1e559049c31d",
        "trusted": true,
        "id": "G9-Ih5Y-BpVp"
      },
      "execution_count": null,
      "outputs": []
    },
    {
      "cell_type": "code",
      "source": [
        "data_2016.plot()\n",
        "plt.title(\"Top 5 monthly crimes 2016\")\n",
        "plt.show()"
      ],
      "metadata": {
        "_cell_guid": "f7bdfcff-7d58-abda-02c3-8d25e833e869",
        "trusted": true,
        "id": "O72vux3DBpVp"
      },
      "execution_count": null,
      "outputs": []
    },
    {
      "cell_type": "markdown",
      "source": [
        "###  Weekly"
      ],
      "metadata": {
        "_cell_guid": "ac710082-00f8-2bf3-c07d-a77d53476086",
        "id": "5ynVYemABpVp"
      }
    },
    {
      "cell_type": "code",
      "source": [
        "grouper = theft_2012.groupby([pd.TimeGrouper('W'), 'Primary Type'])\n",
        "grouper_2013 = theft_2013.groupby([pd.TimeGrouper('W'), 'Primary Type'])\n",
        "grouper_2014 = theft_2014.groupby([pd.TimeGrouper('W'), 'Primary Type'])\n",
        "grouper_2015 = theft_2015.groupby([pd.TimeGrouper('W'), 'Primary Type'])\n",
        "grouper_2016 = theft_2016.groupby([pd.TimeGrouper('W'), 'Primary Type'])\n",
        "\n",
        "data_2012 = grouper['Primary Type'].count().unstack()\n",
        "data_2013 = grouper_2013['Primary Type'].count().unstack()\n",
        "data_2014 = grouper_2014['Primary Type'].count().unstack()\n",
        "data_2015 = grouper_2015['Primary Type'].count().unstack()\n",
        "data_2016 = grouper_2016['Primary Type'].count().unstack()"
      ],
      "metadata": {
        "_cell_guid": "a3d42456-681d-b5c4-6b81-0daab6323b0f",
        "trusted": true,
        "id": "7m6J0l1HBpVq"
      },
      "execution_count": null,
      "outputs": []
    },
    {
      "cell_type": "code",
      "source": [
        "data_2012.plot()\n",
        "plt.title(\"Top 5 Weekly crimes 2012\")\n",
        "plt.show()"
      ],
      "metadata": {
        "_cell_guid": "990da260-a3b3-5ccf-9b3f-d60f2263b56b",
        "trusted": true,
        "id": "KU5ZOgr3BpVq"
      },
      "execution_count": null,
      "outputs": []
    },
    {
      "cell_type": "code",
      "source": [
        "data_2013.plot()\n",
        "plt.title(\"Top 5 Weekly crimes 2013\")\n",
        "plt.show()"
      ],
      "metadata": {
        "_cell_guid": "8a8047dd-df2a-da0d-2c3d-9ea4a1973a16",
        "trusted": true,
        "id": "iE-AtgqOBpVq"
      },
      "execution_count": null,
      "outputs": []
    },
    {
      "cell_type": "code",
      "source": [
        "data_2014.plot()\n",
        "plt.title(\"Top 5 Weekly crimes 2014\")\n",
        "plt.show()"
      ],
      "metadata": {
        "_cell_guid": "2f072b39-3c36-9666-806a-a60232922b6f",
        "trusted": true,
        "id": "P5NRqqq5BpVq"
      },
      "execution_count": null,
      "outputs": []
    },
    {
      "cell_type": "code",
      "source": [
        "data_2015.plot()\n",
        "plt.title(\"Top 5 Weekly crimes 2015\")\n",
        "plt.show()"
      ],
      "metadata": {
        "_cell_guid": "ccb10a00-34d2-f394-9f4c-bfcd39feb7e0",
        "trusted": true,
        "id": "09qfkiwPBpVq"
      },
      "execution_count": null,
      "outputs": []
    },
    {
      "cell_type": "code",
      "source": [
        "data_2016.plot()\n",
        "plt.title(\"Top 5 Weekly crimes 2016\")\n",
        "plt.show()"
      ],
      "metadata": {
        "_cell_guid": "47d0d924-c0fd-3fc8-a32d-90a3d6f14b8e",
        "trusted": true,
        "id": "qJgk1wjnBpVr"
      },
      "execution_count": null,
      "outputs": []
    },
    {
      "cell_type": "markdown",
      "source": [
        "### Daily"
      ],
      "metadata": {
        "_cell_guid": "d6830e05-adb6-9bd5-a34c-e2c844dbc692",
        "id": "Zp7JaUvYBpVr"
      }
    },
    {
      "cell_type": "code",
      "source": [
        "grouper = theft_2012.groupby([pd.TimeGrouper('D'), 'Primary Type'])\n",
        "grouper_2013 = theft_2013.groupby([pd.TimeGrouper('D'), 'Primary Type'])\n",
        "grouper_2014 = theft_2014.groupby([pd.TimeGrouper('D'), 'Primary Type'])\n",
        "grouper_2015 = theft_2015.groupby([pd.TimeGrouper('D'), 'Primary Type'])\n",
        "grouper_2016 = theft_2016.groupby([pd.TimeGrouper('D'), 'Primary Type'])\n",
        "\n",
        "data_2012 = grouper['Primary Type'].count().unstack()\n",
        "data_2013 = grouper_2013['Primary Type'].count().unstack()\n",
        "data_2014 = grouper_2014['Primary Type'].count().unstack()\n",
        "data_2015 = grouper_2015['Primary Type'].count().unstack()\n",
        "data_2016 = grouper_2016['Primary Type'].count().unstack()"
      ],
      "metadata": {
        "_cell_guid": "0c444d2e-02e6-1f5c-7f5e-08122be61399",
        "trusted": true,
        "id": "UO57imrVBpVr"
      },
      "execution_count": null,
      "outputs": []
    },
    {
      "cell_type": "code",
      "source": [
        "data_2012.plot()\n",
        "plt.title(\"Top 5 daily crimes 2012\")\n",
        "plt.show()"
      ],
      "metadata": {
        "_cell_guid": "f9f295e2-b3ff-1ff9-c56c-02e36deb86fb",
        "trusted": true,
        "id": "10jB81VnBpVr"
      },
      "execution_count": null,
      "outputs": []
    },
    {
      "cell_type": "code",
      "source": [
        "data_2013.plot()\n",
        "plt.title(\"Top 5 daily crimes 2013\")\n",
        "plt.show()"
      ],
      "metadata": {
        "_cell_guid": "89896555-fd67-ba62-1c84-b4429aef7fea",
        "trusted": true,
        "id": "pq79YN2LBpVs"
      },
      "execution_count": null,
      "outputs": []
    },
    {
      "cell_type": "code",
      "source": [
        "data_2014.plot()\n",
        "plt.title(\"Top 5 daily crimes 2014\")\n",
        "plt.show()"
      ],
      "metadata": {
        "_cell_guid": "5336bca1-4920-d6c6-7b2e-49055498d2a1",
        "trusted": true,
        "id": "FhuPTrD3BpVs"
      },
      "execution_count": null,
      "outputs": []
    },
    {
      "cell_type": "code",
      "source": [
        "data_2015.plot()\n",
        "plt.title(\"Top 5 daily crimes 2015\")\n",
        "plt.show()"
      ],
      "metadata": {
        "_cell_guid": "8f68d357-d868-5c40-ab14-e575587c4641",
        "trusted": true,
        "id": "gXQchTxbBpVs"
      },
      "execution_count": null,
      "outputs": []
    },
    {
      "cell_type": "code",
      "source": [
        "data_2016.plot()\n",
        "plt.title(\"Top 5 daily crimes 2016\")\n",
        "plt.show()"
      ],
      "metadata": {
        "_cell_guid": "3f6b905e-d2fe-8243-d612-816b05310570",
        "trusted": true,
        "id": "-98MDSjfBpVs"
      },
      "execution_count": null,
      "outputs": []
    }
  ]
}